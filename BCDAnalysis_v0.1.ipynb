{
 "cells": [
  {
   "cell_type": "markdown",
   "source": [
    "### Please download and install the following packages before proceeding:\n",
    "\n",
    "#### 1. pip install uszipcode\n",
    "#### 2. pip install folium\n",
    "#### 3. pip install memory_profiler\n",
    "\n",
    "### Please dowload and unzip the following files and save in your working directory:\n",
    "\n",
    "#### 1. crime.csv\n",
    "#### 2. crime_classification\n",
    "#### 3. zip_attributes"
   ],
   "metadata": {}
  },
  {
   "cell_type": "code",
   "execution_count": 1,
   "source": [
    "import pandas as pd\n",
    "import numpy as np\n",
    "import seaborn as sns\n",
    "import matplotlib.pyplot as plt\n",
    "import time\n",
    "import pandas as pd\n",
    "import numpy as np\n",
    "import string\n",
    "import random\n",
    "from scipy import stats\n",
    "import statsmodels.formula.api as sm\n",
    "import os\n",
    "import folium\n",
    "\n",
    "from sklearn.cluster import KMeans\n",
    "from folium import plugins\n",
    "%load_ext memory_profiler\n",
    "%matplotlib inline"
   ],
   "outputs": [],
   "metadata": {}
  },
  {
   "cell_type": "markdown",
   "source": [
    "## Read in the main data file\n",
    "The encoding for the file is different and so we need to specify that while reading it in"
   ],
   "metadata": {}
  },
  {
   "cell_type": "code",
   "execution_count": 2,
   "source": [
    "# THIS CODE CELL IS TO CAPTURE THE START TIME OF OUR NOTEBOOK RUN\n",
    "start_time = time.time()"
   ],
   "outputs": [],
   "metadata": {}
  },
  {
   "cell_type": "code",
   "execution_count": 3,
   "source": [
    "crime = pd.read_csv('crime.csv', encoding = 'ISO-8859-1')"
   ],
   "outputs": [],
   "metadata": {}
  },
  {
   "cell_type": "code",
   "execution_count": 4,
   "source": [
    "#crime = crime[crime.SHOOTING !=NaN]\n",
    "crime = crime.dropna(how='any', subset=['SHOOTING'])"
   ],
   "outputs": [],
   "metadata": {}
  },
  {
   "cell_type": "code",
   "execution_count": 5,
   "source": [
    "crime.head()"
   ],
   "outputs": [
    {
     "output_type": "execute_result",
     "data": {
      "text/html": [
       "<div>\n",
       "<style scoped>\n",
       "    .dataframe tbody tr th:only-of-type {\n",
       "        vertical-align: middle;\n",
       "    }\n",
       "\n",
       "    .dataframe tbody tr th {\n",
       "        vertical-align: top;\n",
       "    }\n",
       "\n",
       "    .dataframe thead th {\n",
       "        text-align: right;\n",
       "    }\n",
       "</style>\n",
       "<table border=\"1\" class=\"dataframe\">\n",
       "  <thead>\n",
       "    <tr style=\"text-align: right;\">\n",
       "      <th></th>\n",
       "      <th>INCIDENT_NUMBER</th>\n",
       "      <th>OFFENSE_CODE</th>\n",
       "      <th>OFFENSE_CODE_GROUP</th>\n",
       "      <th>OFFENSE_DESCRIPTION</th>\n",
       "      <th>DISTRICT</th>\n",
       "      <th>REPORTING_AREA</th>\n",
       "      <th>SHOOTING</th>\n",
       "      <th>OCCURRED_ON_DATE</th>\n",
       "      <th>YEAR</th>\n",
       "      <th>MONTH</th>\n",
       "      <th>DAY_OF_WEEK</th>\n",
       "      <th>HOUR</th>\n",
       "      <th>UCR_PART</th>\n",
       "      <th>STREET</th>\n",
       "      <th>Lat</th>\n",
       "      <th>Long</th>\n",
       "      <th>Location</th>\n",
       "    </tr>\n",
       "  </thead>\n",
       "  <tbody>\n",
       "    <tr>\n",
       "      <th>759</th>\n",
       "      <td>I182053533</td>\n",
       "      <td>413</td>\n",
       "      <td>Aggravated Assault</td>\n",
       "      <td>ASSAULT - AGGRAVATED - BATTERY</td>\n",
       "      <td>B2</td>\n",
       "      <td>909</td>\n",
       "      <td>Y</td>\n",
       "      <td>2018-07-07 23:33:00</td>\n",
       "      <td>2018</td>\n",
       "      <td>7</td>\n",
       "      <td>Saturday</td>\n",
       "      <td>23</td>\n",
       "      <td>Part One</td>\n",
       "      <td>WHITTIER ST</td>\n",
       "      <td>42.333802</td>\n",
       "      <td>-71.088809</td>\n",
       "      <td>(42.33380238, -71.08880867)</td>\n",
       "    </tr>\n",
       "    <tr>\n",
       "      <th>869</th>\n",
       "      <td>I182053414</td>\n",
       "      <td>3001</td>\n",
       "      <td>Medical Assistance</td>\n",
       "      <td>DEATH INVESTIGATION</td>\n",
       "      <td>B2</td>\n",
       "      <td>316</td>\n",
       "      <td>Y</td>\n",
       "      <td>2018-07-07 15:06:00</td>\n",
       "      <td>2018</td>\n",
       "      <td>7</td>\n",
       "      <td>Saturday</td>\n",
       "      <td>15</td>\n",
       "      <td>Part Three</td>\n",
       "      <td>HOMESTEAD ST</td>\n",
       "      <td>42.312421</td>\n",
       "      <td>-71.091549</td>\n",
       "      <td>(42.31242132, -71.09154902)</td>\n",
       "    </tr>\n",
       "    <tr>\n",
       "      <th>1602</th>\n",
       "      <td>I182052602</td>\n",
       "      <td>3001</td>\n",
       "      <td>Medical Assistance</td>\n",
       "      <td>DEATH INVESTIGATION</td>\n",
       "      <td>B2</td>\n",
       "      <td>324</td>\n",
       "      <td>Y</td>\n",
       "      <td>2018-07-04 21:50:00</td>\n",
       "      <td>2018</td>\n",
       "      <td>7</td>\n",
       "      <td>Wednesday</td>\n",
       "      <td>21</td>\n",
       "      <td>Part Three</td>\n",
       "      <td>BROOKFORD ST</td>\n",
       "      <td>42.318415</td>\n",
       "      <td>-71.076025</td>\n",
       "      <td>(42.31841535, -71.07602496)</td>\n",
       "    </tr>\n",
       "    <tr>\n",
       "      <th>1603</th>\n",
       "      <td>I182052602</td>\n",
       "      <td>111</td>\n",
       "      <td>Homicide</td>\n",
       "      <td>MURDER, NON-NEGLIGIENT MANSLAUGHTER</td>\n",
       "      <td>B2</td>\n",
       "      <td>324</td>\n",
       "      <td>Y</td>\n",
       "      <td>2018-07-04 21:50:00</td>\n",
       "      <td>2018</td>\n",
       "      <td>7</td>\n",
       "      <td>Wednesday</td>\n",
       "      <td>21</td>\n",
       "      <td>Part One</td>\n",
       "      <td>BROOKFORD ST</td>\n",
       "      <td>42.318415</td>\n",
       "      <td>-71.076025</td>\n",
       "      <td>(42.31841535, -71.07602496)</td>\n",
       "    </tr>\n",
       "    <tr>\n",
       "      <th>1648</th>\n",
       "      <td>I182052553</td>\n",
       "      <td>413</td>\n",
       "      <td>Aggravated Assault</td>\n",
       "      <td>ASSAULT - AGGRAVATED - BATTERY</td>\n",
       "      <td>B2</td>\n",
       "      <td>326</td>\n",
       "      <td>Y</td>\n",
       "      <td>2018-07-04 18:40:00</td>\n",
       "      <td>2018</td>\n",
       "      <td>7</td>\n",
       "      <td>Wednesday</td>\n",
       "      <td>18</td>\n",
       "      <td>Part One</td>\n",
       "      <td>FAYSTON ST</td>\n",
       "      <td>42.312243</td>\n",
       "      <td>-71.075499</td>\n",
       "      <td>(42.31224327, -71.07549901)</td>\n",
       "    </tr>\n",
       "  </tbody>\n",
       "</table>\n",
       "</div>"
      ],
      "text/plain": [
       "     INCIDENT_NUMBER  OFFENSE_CODE  OFFENSE_CODE_GROUP  \\\n",
       "759       I182053533           413  Aggravated Assault   \n",
       "869       I182053414          3001  Medical Assistance   \n",
       "1602      I182052602          3001  Medical Assistance   \n",
       "1603      I182052602           111            Homicide   \n",
       "1648      I182052553           413  Aggravated Assault   \n",
       "\n",
       "                      OFFENSE_DESCRIPTION DISTRICT REPORTING_AREA SHOOTING  \\\n",
       "759        ASSAULT - AGGRAVATED - BATTERY       B2            909        Y   \n",
       "869                   DEATH INVESTIGATION       B2            316        Y   \n",
       "1602                  DEATH INVESTIGATION       B2            324        Y   \n",
       "1603  MURDER, NON-NEGLIGIENT MANSLAUGHTER       B2            324        Y   \n",
       "1648       ASSAULT - AGGRAVATED - BATTERY       B2            326        Y   \n",
       "\n",
       "         OCCURRED_ON_DATE  YEAR  MONTH DAY_OF_WEEK  HOUR    UCR_PART  \\\n",
       "759   2018-07-07 23:33:00  2018      7    Saturday    23    Part One   \n",
       "869   2018-07-07 15:06:00  2018      7    Saturday    15  Part Three   \n",
       "1602  2018-07-04 21:50:00  2018      7   Wednesday    21  Part Three   \n",
       "1603  2018-07-04 21:50:00  2018      7   Wednesday    21    Part One   \n",
       "1648  2018-07-04 18:40:00  2018      7   Wednesday    18    Part One   \n",
       "\n",
       "            STREET        Lat       Long                     Location  \n",
       "759    WHITTIER ST  42.333802 -71.088809  (42.33380238, -71.08880867)  \n",
       "869   HOMESTEAD ST  42.312421 -71.091549  (42.31242132, -71.09154902)  \n",
       "1602  BROOKFORD ST  42.318415 -71.076025  (42.31841535, -71.07602496)  \n",
       "1603  BROOKFORD ST  42.318415 -71.076025  (42.31841535, -71.07602496)  \n",
       "1648    FAYSTON ST  42.312243 -71.075499  (42.31224327, -71.07549901)  "
      ]
     },
     "metadata": {},
     "execution_count": 5
    }
   ],
   "metadata": {}
  },
  {
   "cell_type": "code",
   "execution_count": 6,
   "source": [
    "crime.describe()"
   ],
   "outputs": [
    {
     "output_type": "execute_result",
     "data": {
      "text/html": [
       "<div>\n",
       "<style scoped>\n",
       "    .dataframe tbody tr th:only-of-type {\n",
       "        vertical-align: middle;\n",
       "    }\n",
       "\n",
       "    .dataframe tbody tr th {\n",
       "        vertical-align: top;\n",
       "    }\n",
       "\n",
       "    .dataframe thead th {\n",
       "        text-align: right;\n",
       "    }\n",
       "</style>\n",
       "<table border=\"1\" class=\"dataframe\">\n",
       "  <thead>\n",
       "    <tr style=\"text-align: right;\">\n",
       "      <th></th>\n",
       "      <th>OFFENSE_CODE</th>\n",
       "      <th>YEAR</th>\n",
       "      <th>MONTH</th>\n",
       "      <th>HOUR</th>\n",
       "      <th>Lat</th>\n",
       "      <th>Long</th>\n",
       "    </tr>\n",
       "  </thead>\n",
       "  <tbody>\n",
       "    <tr>\n",
       "      <th>count</th>\n",
       "      <td>969.000000</td>\n",
       "      <td>969.00000</td>\n",
       "      <td>969.00000</td>\n",
       "      <td>969.000000</td>\n",
       "      <td>936.000000</td>\n",
       "      <td>936.000000</td>\n",
       "    </tr>\n",
       "    <tr>\n",
       "      <th>mean</th>\n",
       "      <td>1087.329205</td>\n",
       "      <td>2016.47162</td>\n",
       "      <td>7.06192</td>\n",
       "      <td>13.519092</td>\n",
       "      <td>42.218083</td>\n",
       "      <td>-70.932742</td>\n",
       "    </tr>\n",
       "    <tr>\n",
       "      <th>std</th>\n",
       "      <td>1105.335769</td>\n",
       "      <td>0.95534</td>\n",
       "      <td>3.31137</td>\n",
       "      <td>8.114107</td>\n",
       "      <td>2.001098</td>\n",
       "      <td>3.237888</td>\n",
       "    </tr>\n",
       "    <tr>\n",
       "      <th>min</th>\n",
       "      <td>111.000000</td>\n",
       "      <td>2015.00000</td>\n",
       "      <td>1.00000</td>\n",
       "      <td>0.000000</td>\n",
       "      <td>-1.000000</td>\n",
       "      <td>-71.167152</td>\n",
       "    </tr>\n",
       "    <tr>\n",
       "      <th>25%</th>\n",
       "      <td>413.000000</td>\n",
       "      <td>2016.00000</td>\n",
       "      <td>5.00000</td>\n",
       "      <td>4.000000</td>\n",
       "      <td>42.294150</td>\n",
       "      <td>-71.091878</td>\n",
       "    </tr>\n",
       "    <tr>\n",
       "      <th>50%</th>\n",
       "      <td>413.000000</td>\n",
       "      <td>2017.00000</td>\n",
       "      <td>7.00000</td>\n",
       "      <td>16.000000</td>\n",
       "      <td>42.312517</td>\n",
       "      <td>-71.081363</td>\n",
       "    </tr>\n",
       "    <tr>\n",
       "      <th>75%</th>\n",
       "      <td>1841.000000</td>\n",
       "      <td>2017.00000</td>\n",
       "      <td>10.00000</td>\n",
       "      <td>20.000000</td>\n",
       "      <td>42.326112</td>\n",
       "      <td>-71.070215</td>\n",
       "    </tr>\n",
       "    <tr>\n",
       "      <th>max</th>\n",
       "      <td>3831.000000</td>\n",
       "      <td>2018.00000</td>\n",
       "      <td>12.00000</td>\n",
       "      <td>23.000000</td>\n",
       "      <td>42.389572</td>\n",
       "      <td>-1.000000</td>\n",
       "    </tr>\n",
       "  </tbody>\n",
       "</table>\n",
       "</div>"
      ],
      "text/plain": [
       "       OFFENSE_CODE        YEAR      MONTH        HOUR         Lat        Long\n",
       "count    969.000000   969.00000  969.00000  969.000000  936.000000  936.000000\n",
       "mean    1087.329205  2016.47162    7.06192   13.519092   42.218083  -70.932742\n",
       "std     1105.335769     0.95534    3.31137    8.114107    2.001098    3.237888\n",
       "min      111.000000  2015.00000    1.00000    0.000000   -1.000000  -71.167152\n",
       "25%      413.000000  2016.00000    5.00000    4.000000   42.294150  -71.091878\n",
       "50%      413.000000  2017.00000    7.00000   16.000000   42.312517  -71.081363\n",
       "75%     1841.000000  2017.00000   10.00000   20.000000   42.326112  -71.070215\n",
       "max     3831.000000  2018.00000   12.00000   23.000000   42.389572   -1.000000"
      ]
     },
     "metadata": {},
     "execution_count": 6
    }
   ],
   "metadata": {}
  },
  {
   "cell_type": "code",
   "execution_count": 7,
   "source": [
    "print(crime.count())"
   ],
   "outputs": [
    {
     "output_type": "stream",
     "name": "stdout",
     "text": [
      "INCIDENT_NUMBER        969\n",
      "OFFENSE_CODE           969\n",
      "OFFENSE_CODE_GROUP     969\n",
      "OFFENSE_DESCRIPTION    969\n",
      "DISTRICT               967\n",
      "REPORTING_AREA         969\n",
      "SHOOTING               969\n",
      "OCCURRED_ON_DATE       969\n",
      "YEAR                   969\n",
      "MONTH                  969\n",
      "DAY_OF_WEEK            969\n",
      "HOUR                   969\n",
      "UCR_PART               964\n",
      "STREET                 946\n",
      "Lat                    936\n",
      "Long                   936\n",
      "Location               969\n",
      "dtype: int64\n"
     ]
    }
   ],
   "metadata": {}
  },
  {
   "cell_type": "code",
   "execution_count": 8,
   "source": [
    "crime.describe(include='all')"
   ],
   "outputs": [
    {
     "output_type": "execute_result",
     "data": {
      "text/html": [
       "<div>\n",
       "<style scoped>\n",
       "    .dataframe tbody tr th:only-of-type {\n",
       "        vertical-align: middle;\n",
       "    }\n",
       "\n",
       "    .dataframe tbody tr th {\n",
       "        vertical-align: top;\n",
       "    }\n",
       "\n",
       "    .dataframe thead th {\n",
       "        text-align: right;\n",
       "    }\n",
       "</style>\n",
       "<table border=\"1\" class=\"dataframe\">\n",
       "  <thead>\n",
       "    <tr style=\"text-align: right;\">\n",
       "      <th></th>\n",
       "      <th>INCIDENT_NUMBER</th>\n",
       "      <th>OFFENSE_CODE</th>\n",
       "      <th>OFFENSE_CODE_GROUP</th>\n",
       "      <th>OFFENSE_DESCRIPTION</th>\n",
       "      <th>DISTRICT</th>\n",
       "      <th>REPORTING_AREA</th>\n",
       "      <th>SHOOTING</th>\n",
       "      <th>OCCURRED_ON_DATE</th>\n",
       "      <th>YEAR</th>\n",
       "      <th>MONTH</th>\n",
       "      <th>DAY_OF_WEEK</th>\n",
       "      <th>HOUR</th>\n",
       "      <th>UCR_PART</th>\n",
       "      <th>STREET</th>\n",
       "      <th>Lat</th>\n",
       "      <th>Long</th>\n",
       "      <th>Location</th>\n",
       "    </tr>\n",
       "  </thead>\n",
       "  <tbody>\n",
       "    <tr>\n",
       "      <th>count</th>\n",
       "      <td>969</td>\n",
       "      <td>969.000000</td>\n",
       "      <td>969</td>\n",
       "      <td>969</td>\n",
       "      <td>967</td>\n",
       "      <td>969</td>\n",
       "      <td>969</td>\n",
       "      <td>969</td>\n",
       "      <td>969.00000</td>\n",
       "      <td>969.00000</td>\n",
       "      <td>969</td>\n",
       "      <td>969.000000</td>\n",
       "      <td>964</td>\n",
       "      <td>946</td>\n",
       "      <td>936.000000</td>\n",
       "      <td>936.000000</td>\n",
       "      <td>969</td>\n",
       "    </tr>\n",
       "    <tr>\n",
       "      <th>unique</th>\n",
       "      <td>599</td>\n",
       "      <td>NaN</td>\n",
       "      <td>27</td>\n",
       "      <td>55</td>\n",
       "      <td>12</td>\n",
       "      <td>259</td>\n",
       "      <td>1</td>\n",
       "      <td>598</td>\n",
       "      <td>NaN</td>\n",
       "      <td>NaN</td>\n",
       "      <td>7</td>\n",
       "      <td>NaN</td>\n",
       "      <td>4</td>\n",
       "      <td>322</td>\n",
       "      <td>NaN</td>\n",
       "      <td>NaN</td>\n",
       "      <td>484</td>\n",
       "    </tr>\n",
       "    <tr>\n",
       "      <th>top</th>\n",
       "      <td>I162067346</td>\n",
       "      <td>NaN</td>\n",
       "      <td>Aggravated Assault</td>\n",
       "      <td>ASSAULT - AGGRAVATED - BATTERY</td>\n",
       "      <td>B2</td>\n",
       "      <td></td>\n",
       "      <td>Y</td>\n",
       "      <td>2016-08-20 00:05:00</td>\n",
       "      <td>NaN</td>\n",
       "      <td>NaN</td>\n",
       "      <td>Saturday</td>\n",
       "      <td>NaN</td>\n",
       "      <td>Part One</td>\n",
       "      <td>WASHINGTON ST</td>\n",
       "      <td>NaN</td>\n",
       "      <td>NaN</td>\n",
       "      <td>(0.00000000, 0.00000000)</td>\n",
       "    </tr>\n",
       "    <tr>\n",
       "      <th>freq</th>\n",
       "      <td>7</td>\n",
       "      <td>NaN</td>\n",
       "      <td>500</td>\n",
       "      <td>472</td>\n",
       "      <td>333</td>\n",
       "      <td>29</td>\n",
       "      <td>969</td>\n",
       "      <td>7</td>\n",
       "      <td>NaN</td>\n",
       "      <td>NaN</td>\n",
       "      <td>219</td>\n",
       "      <td>NaN</td>\n",
       "      <td>634</td>\n",
       "      <td>44</td>\n",
       "      <td>NaN</td>\n",
       "      <td>NaN</td>\n",
       "      <td>33</td>\n",
       "    </tr>\n",
       "    <tr>\n",
       "      <th>mean</th>\n",
       "      <td>NaN</td>\n",
       "      <td>1087.329205</td>\n",
       "      <td>NaN</td>\n",
       "      <td>NaN</td>\n",
       "      <td>NaN</td>\n",
       "      <td>NaN</td>\n",
       "      <td>NaN</td>\n",
       "      <td>NaN</td>\n",
       "      <td>2016.47162</td>\n",
       "      <td>7.06192</td>\n",
       "      <td>NaN</td>\n",
       "      <td>13.519092</td>\n",
       "      <td>NaN</td>\n",
       "      <td>NaN</td>\n",
       "      <td>42.218083</td>\n",
       "      <td>-70.932742</td>\n",
       "      <td>NaN</td>\n",
       "    </tr>\n",
       "    <tr>\n",
       "      <th>std</th>\n",
       "      <td>NaN</td>\n",
       "      <td>1105.335769</td>\n",
       "      <td>NaN</td>\n",
       "      <td>NaN</td>\n",
       "      <td>NaN</td>\n",
       "      <td>NaN</td>\n",
       "      <td>NaN</td>\n",
       "      <td>NaN</td>\n",
       "      <td>0.95534</td>\n",
       "      <td>3.31137</td>\n",
       "      <td>NaN</td>\n",
       "      <td>8.114107</td>\n",
       "      <td>NaN</td>\n",
       "      <td>NaN</td>\n",
       "      <td>2.001098</td>\n",
       "      <td>3.237888</td>\n",
       "      <td>NaN</td>\n",
       "    </tr>\n",
       "    <tr>\n",
       "      <th>min</th>\n",
       "      <td>NaN</td>\n",
       "      <td>111.000000</td>\n",
       "      <td>NaN</td>\n",
       "      <td>NaN</td>\n",
       "      <td>NaN</td>\n",
       "      <td>NaN</td>\n",
       "      <td>NaN</td>\n",
       "      <td>NaN</td>\n",
       "      <td>2015.00000</td>\n",
       "      <td>1.00000</td>\n",
       "      <td>NaN</td>\n",
       "      <td>0.000000</td>\n",
       "      <td>NaN</td>\n",
       "      <td>NaN</td>\n",
       "      <td>-1.000000</td>\n",
       "      <td>-71.167152</td>\n",
       "      <td>NaN</td>\n",
       "    </tr>\n",
       "    <tr>\n",
       "      <th>25%</th>\n",
       "      <td>NaN</td>\n",
       "      <td>413.000000</td>\n",
       "      <td>NaN</td>\n",
       "      <td>NaN</td>\n",
       "      <td>NaN</td>\n",
       "      <td>NaN</td>\n",
       "      <td>NaN</td>\n",
       "      <td>NaN</td>\n",
       "      <td>2016.00000</td>\n",
       "      <td>5.00000</td>\n",
       "      <td>NaN</td>\n",
       "      <td>4.000000</td>\n",
       "      <td>NaN</td>\n",
       "      <td>NaN</td>\n",
       "      <td>42.294150</td>\n",
       "      <td>-71.091878</td>\n",
       "      <td>NaN</td>\n",
       "    </tr>\n",
       "    <tr>\n",
       "      <th>50%</th>\n",
       "      <td>NaN</td>\n",
       "      <td>413.000000</td>\n",
       "      <td>NaN</td>\n",
       "      <td>NaN</td>\n",
       "      <td>NaN</td>\n",
       "      <td>NaN</td>\n",
       "      <td>NaN</td>\n",
       "      <td>NaN</td>\n",
       "      <td>2017.00000</td>\n",
       "      <td>7.00000</td>\n",
       "      <td>NaN</td>\n",
       "      <td>16.000000</td>\n",
       "      <td>NaN</td>\n",
       "      <td>NaN</td>\n",
       "      <td>42.312517</td>\n",
       "      <td>-71.081363</td>\n",
       "      <td>NaN</td>\n",
       "    </tr>\n",
       "    <tr>\n",
       "      <th>75%</th>\n",
       "      <td>NaN</td>\n",
       "      <td>1841.000000</td>\n",
       "      <td>NaN</td>\n",
       "      <td>NaN</td>\n",
       "      <td>NaN</td>\n",
       "      <td>NaN</td>\n",
       "      <td>NaN</td>\n",
       "      <td>NaN</td>\n",
       "      <td>2017.00000</td>\n",
       "      <td>10.00000</td>\n",
       "      <td>NaN</td>\n",
       "      <td>20.000000</td>\n",
       "      <td>NaN</td>\n",
       "      <td>NaN</td>\n",
       "      <td>42.326112</td>\n",
       "      <td>-71.070215</td>\n",
       "      <td>NaN</td>\n",
       "    </tr>\n",
       "    <tr>\n",
       "      <th>max</th>\n",
       "      <td>NaN</td>\n",
       "      <td>3831.000000</td>\n",
       "      <td>NaN</td>\n",
       "      <td>NaN</td>\n",
       "      <td>NaN</td>\n",
       "      <td>NaN</td>\n",
       "      <td>NaN</td>\n",
       "      <td>NaN</td>\n",
       "      <td>2018.00000</td>\n",
       "      <td>12.00000</td>\n",
       "      <td>NaN</td>\n",
       "      <td>23.000000</td>\n",
       "      <td>NaN</td>\n",
       "      <td>NaN</td>\n",
       "      <td>42.389572</td>\n",
       "      <td>-1.000000</td>\n",
       "      <td>NaN</td>\n",
       "    </tr>\n",
       "  </tbody>\n",
       "</table>\n",
       "</div>"
      ],
      "text/plain": [
       "       INCIDENT_NUMBER  OFFENSE_CODE  OFFENSE_CODE_GROUP  \\\n",
       "count              969    969.000000                 969   \n",
       "unique             599           NaN                  27   \n",
       "top         I162067346           NaN  Aggravated Assault   \n",
       "freq                 7           NaN                 500   \n",
       "mean               NaN   1087.329205                 NaN   \n",
       "std                NaN   1105.335769                 NaN   \n",
       "min                NaN    111.000000                 NaN   \n",
       "25%                NaN    413.000000                 NaN   \n",
       "50%                NaN    413.000000                 NaN   \n",
       "75%                NaN   1841.000000                 NaN   \n",
       "max                NaN   3831.000000                 NaN   \n",
       "\n",
       "                   OFFENSE_DESCRIPTION DISTRICT REPORTING_AREA SHOOTING  \\\n",
       "count                              969      967            969      969   \n",
       "unique                              55       12            259        1   \n",
       "top     ASSAULT - AGGRAVATED - BATTERY       B2                       Y   \n",
       "freq                               472      333             29      969   \n",
       "mean                               NaN      NaN            NaN      NaN   \n",
       "std                                NaN      NaN            NaN      NaN   \n",
       "min                                NaN      NaN            NaN      NaN   \n",
       "25%                                NaN      NaN            NaN      NaN   \n",
       "50%                                NaN      NaN            NaN      NaN   \n",
       "75%                                NaN      NaN            NaN      NaN   \n",
       "max                                NaN      NaN            NaN      NaN   \n",
       "\n",
       "           OCCURRED_ON_DATE        YEAR      MONTH DAY_OF_WEEK        HOUR  \\\n",
       "count                   969   969.00000  969.00000         969  969.000000   \n",
       "unique                  598         NaN        NaN           7         NaN   \n",
       "top     2016-08-20 00:05:00         NaN        NaN    Saturday         NaN   \n",
       "freq                      7         NaN        NaN         219         NaN   \n",
       "mean                    NaN  2016.47162    7.06192         NaN   13.519092   \n",
       "std                     NaN     0.95534    3.31137         NaN    8.114107   \n",
       "min                     NaN  2015.00000    1.00000         NaN    0.000000   \n",
       "25%                     NaN  2016.00000    5.00000         NaN    4.000000   \n",
       "50%                     NaN  2017.00000    7.00000         NaN   16.000000   \n",
       "75%                     NaN  2017.00000   10.00000         NaN   20.000000   \n",
       "max                     NaN  2018.00000   12.00000         NaN   23.000000   \n",
       "\n",
       "        UCR_PART         STREET         Lat        Long  \\\n",
       "count        964            946  936.000000  936.000000   \n",
       "unique         4            322         NaN         NaN   \n",
       "top     Part One  WASHINGTON ST         NaN         NaN   \n",
       "freq         634             44         NaN         NaN   \n",
       "mean         NaN            NaN   42.218083  -70.932742   \n",
       "std          NaN            NaN    2.001098    3.237888   \n",
       "min          NaN            NaN   -1.000000  -71.167152   \n",
       "25%          NaN            NaN   42.294150  -71.091878   \n",
       "50%          NaN            NaN   42.312517  -71.081363   \n",
       "75%          NaN            NaN   42.326112  -71.070215   \n",
       "max          NaN            NaN   42.389572   -1.000000   \n",
       "\n",
       "                        Location  \n",
       "count                        969  \n",
       "unique                       484  \n",
       "top     (0.00000000, 0.00000000)  \n",
       "freq                          33  \n",
       "mean                         NaN  \n",
       "std                          NaN  \n",
       "min                          NaN  \n",
       "25%                          NaN  \n",
       "50%                          NaN  \n",
       "75%                          NaN  \n",
       "max                          NaN  "
      ]
     },
     "metadata": {},
     "execution_count": 8
    }
   ],
   "metadata": {}
  },
  {
   "cell_type": "markdown",
   "source": [
    "## Drop the rows where we are missing Latitude, Longitude information\n",
    "\n",
    "We will drop the rows where we are missing lat, long information for the records (There are about 28k such records)"
   ],
   "metadata": {}
  },
  {
   "cell_type": "code",
   "execution_count": 9,
   "source": [
    "crime_subset = crime[(crime['Lat']!=-1) & (crime['Lat'].notnull())]"
   ],
   "outputs": [],
   "metadata": {}
  },
  {
   "cell_type": "markdown",
   "source": [
    "### crime_subset only contains records with latitudes and longitudes\n",
    "- We will be using this subset of the data going forward"
   ],
   "metadata": {}
  },
  {
   "cell_type": "code",
   "execution_count": 10,
   "source": [
    "print(crime_subset.shape)\n",
    "crime_subset.head()"
   ],
   "outputs": [
    {
     "output_type": "stream",
     "name": "stdout",
     "text": [
      "(934, 17)\n"
     ]
    },
    {
     "output_type": "execute_result",
     "data": {
      "text/html": [
       "<div>\n",
       "<style scoped>\n",
       "    .dataframe tbody tr th:only-of-type {\n",
       "        vertical-align: middle;\n",
       "    }\n",
       "\n",
       "    .dataframe tbody tr th {\n",
       "        vertical-align: top;\n",
       "    }\n",
       "\n",
       "    .dataframe thead th {\n",
       "        text-align: right;\n",
       "    }\n",
       "</style>\n",
       "<table border=\"1\" class=\"dataframe\">\n",
       "  <thead>\n",
       "    <tr style=\"text-align: right;\">\n",
       "      <th></th>\n",
       "      <th>INCIDENT_NUMBER</th>\n",
       "      <th>OFFENSE_CODE</th>\n",
       "      <th>OFFENSE_CODE_GROUP</th>\n",
       "      <th>OFFENSE_DESCRIPTION</th>\n",
       "      <th>DISTRICT</th>\n",
       "      <th>REPORTING_AREA</th>\n",
       "      <th>SHOOTING</th>\n",
       "      <th>OCCURRED_ON_DATE</th>\n",
       "      <th>YEAR</th>\n",
       "      <th>MONTH</th>\n",
       "      <th>DAY_OF_WEEK</th>\n",
       "      <th>HOUR</th>\n",
       "      <th>UCR_PART</th>\n",
       "      <th>STREET</th>\n",
       "      <th>Lat</th>\n",
       "      <th>Long</th>\n",
       "      <th>Location</th>\n",
       "    </tr>\n",
       "  </thead>\n",
       "  <tbody>\n",
       "    <tr>\n",
       "      <th>759</th>\n",
       "      <td>I182053533</td>\n",
       "      <td>413</td>\n",
       "      <td>Aggravated Assault</td>\n",
       "      <td>ASSAULT - AGGRAVATED - BATTERY</td>\n",
       "      <td>B2</td>\n",
       "      <td>909</td>\n",
       "      <td>Y</td>\n",
       "      <td>2018-07-07 23:33:00</td>\n",
       "      <td>2018</td>\n",
       "      <td>7</td>\n",
       "      <td>Saturday</td>\n",
       "      <td>23</td>\n",
       "      <td>Part One</td>\n",
       "      <td>WHITTIER ST</td>\n",
       "      <td>42.333802</td>\n",
       "      <td>-71.088809</td>\n",
       "      <td>(42.33380238, -71.08880867)</td>\n",
       "    </tr>\n",
       "    <tr>\n",
       "      <th>869</th>\n",
       "      <td>I182053414</td>\n",
       "      <td>3001</td>\n",
       "      <td>Medical Assistance</td>\n",
       "      <td>DEATH INVESTIGATION</td>\n",
       "      <td>B2</td>\n",
       "      <td>316</td>\n",
       "      <td>Y</td>\n",
       "      <td>2018-07-07 15:06:00</td>\n",
       "      <td>2018</td>\n",
       "      <td>7</td>\n",
       "      <td>Saturday</td>\n",
       "      <td>15</td>\n",
       "      <td>Part Three</td>\n",
       "      <td>HOMESTEAD ST</td>\n",
       "      <td>42.312421</td>\n",
       "      <td>-71.091549</td>\n",
       "      <td>(42.31242132, -71.09154902)</td>\n",
       "    </tr>\n",
       "    <tr>\n",
       "      <th>1602</th>\n",
       "      <td>I182052602</td>\n",
       "      <td>3001</td>\n",
       "      <td>Medical Assistance</td>\n",
       "      <td>DEATH INVESTIGATION</td>\n",
       "      <td>B2</td>\n",
       "      <td>324</td>\n",
       "      <td>Y</td>\n",
       "      <td>2018-07-04 21:50:00</td>\n",
       "      <td>2018</td>\n",
       "      <td>7</td>\n",
       "      <td>Wednesday</td>\n",
       "      <td>21</td>\n",
       "      <td>Part Three</td>\n",
       "      <td>BROOKFORD ST</td>\n",
       "      <td>42.318415</td>\n",
       "      <td>-71.076025</td>\n",
       "      <td>(42.31841535, -71.07602496)</td>\n",
       "    </tr>\n",
       "    <tr>\n",
       "      <th>1603</th>\n",
       "      <td>I182052602</td>\n",
       "      <td>111</td>\n",
       "      <td>Homicide</td>\n",
       "      <td>MURDER, NON-NEGLIGIENT MANSLAUGHTER</td>\n",
       "      <td>B2</td>\n",
       "      <td>324</td>\n",
       "      <td>Y</td>\n",
       "      <td>2018-07-04 21:50:00</td>\n",
       "      <td>2018</td>\n",
       "      <td>7</td>\n",
       "      <td>Wednesday</td>\n",
       "      <td>21</td>\n",
       "      <td>Part One</td>\n",
       "      <td>BROOKFORD ST</td>\n",
       "      <td>42.318415</td>\n",
       "      <td>-71.076025</td>\n",
       "      <td>(42.31841535, -71.07602496)</td>\n",
       "    </tr>\n",
       "    <tr>\n",
       "      <th>1648</th>\n",
       "      <td>I182052553</td>\n",
       "      <td>413</td>\n",
       "      <td>Aggravated Assault</td>\n",
       "      <td>ASSAULT - AGGRAVATED - BATTERY</td>\n",
       "      <td>B2</td>\n",
       "      <td>326</td>\n",
       "      <td>Y</td>\n",
       "      <td>2018-07-04 18:40:00</td>\n",
       "      <td>2018</td>\n",
       "      <td>7</td>\n",
       "      <td>Wednesday</td>\n",
       "      <td>18</td>\n",
       "      <td>Part One</td>\n",
       "      <td>FAYSTON ST</td>\n",
       "      <td>42.312243</td>\n",
       "      <td>-71.075499</td>\n",
       "      <td>(42.31224327, -71.07549901)</td>\n",
       "    </tr>\n",
       "  </tbody>\n",
       "</table>\n",
       "</div>"
      ],
      "text/plain": [
       "     INCIDENT_NUMBER  OFFENSE_CODE  OFFENSE_CODE_GROUP  \\\n",
       "759       I182053533           413  Aggravated Assault   \n",
       "869       I182053414          3001  Medical Assistance   \n",
       "1602      I182052602          3001  Medical Assistance   \n",
       "1603      I182052602           111            Homicide   \n",
       "1648      I182052553           413  Aggravated Assault   \n",
       "\n",
       "                      OFFENSE_DESCRIPTION DISTRICT REPORTING_AREA SHOOTING  \\\n",
       "759        ASSAULT - AGGRAVATED - BATTERY       B2            909        Y   \n",
       "869                   DEATH INVESTIGATION       B2            316        Y   \n",
       "1602                  DEATH INVESTIGATION       B2            324        Y   \n",
       "1603  MURDER, NON-NEGLIGIENT MANSLAUGHTER       B2            324        Y   \n",
       "1648       ASSAULT - AGGRAVATED - BATTERY       B2            326        Y   \n",
       "\n",
       "         OCCURRED_ON_DATE  YEAR  MONTH DAY_OF_WEEK  HOUR    UCR_PART  \\\n",
       "759   2018-07-07 23:33:00  2018      7    Saturday    23    Part One   \n",
       "869   2018-07-07 15:06:00  2018      7    Saturday    15  Part Three   \n",
       "1602  2018-07-04 21:50:00  2018      7   Wednesday    21  Part Three   \n",
       "1603  2018-07-04 21:50:00  2018      7   Wednesday    21    Part One   \n",
       "1648  2018-07-04 18:40:00  2018      7   Wednesday    18    Part One   \n",
       "\n",
       "            STREET        Lat       Long                     Location  \n",
       "759    WHITTIER ST  42.333802 -71.088809  (42.33380238, -71.08880867)  \n",
       "869   HOMESTEAD ST  42.312421 -71.091549  (42.31242132, -71.09154902)  \n",
       "1602  BROOKFORD ST  42.318415 -71.076025  (42.31841535, -71.07602496)  \n",
       "1603  BROOKFORD ST  42.318415 -71.076025  (42.31841535, -71.07602496)  \n",
       "1648    FAYSTON ST  42.312243 -71.075499  (42.31224327, -71.07549901)  "
      ]
     },
     "metadata": {},
     "execution_count": 10
    }
   ],
   "metadata": {
    "scrolled": true
   }
  },
  {
   "cell_type": "markdown",
   "source": [
    "## Load the library (uszipcodes) to map the latitude, longitudes to the zips\n",
    "- To merge the dataset with the zip attributes, we would need to pull up the zips for each lat long present in the data file\n",
    "- We create a unique values of latitude, longitude and pull up the zip for each set of lat, longs\n",
    "- After pulling up the zips for each lat-long, we merge it back with the original dataset\n"
   ],
   "metadata": {}
  },
  {
   "cell_type": "code",
   "execution_count": 11,
   "source": [
    "from uszipcode import ZipcodeSearchEngine"
   ],
   "outputs": [
    {
     "output_type": "error",
     "ename": "ImportError",
     "evalue": "cannot import name 'ZipcodeSearchEngine' from 'uszipcode' (/Users/jaybennett/opt/anaconda3/lib/python3.8/site-packages/uszipcode/__init__.py)",
     "traceback": [
      "\u001b[0;31m---------------------------------------------------------------------------\u001b[0m",
      "\u001b[0;31mImportError\u001b[0m                               Traceback (most recent call last)",
      "\u001b[0;32m/var/folders/3x/75txnqv153g7fgkclt0n4b6w0000gn/T/ipykernel_17375/915301309.py\u001b[0m in \u001b[0;36m<module>\u001b[0;34m\u001b[0m\n\u001b[0;32m----> 1\u001b[0;31m \u001b[0;32mfrom\u001b[0m \u001b[0muszipcode\u001b[0m \u001b[0;32mimport\u001b[0m \u001b[0mZipcodeSearchEngine\u001b[0m\u001b[0;34m\u001b[0m\u001b[0;34m\u001b[0m\u001b[0m\n\u001b[0m",
      "\u001b[0;31mImportError\u001b[0m: cannot import name 'ZipcodeSearchEngine' from 'uszipcode' (/Users/jaybennett/opt/anaconda3/lib/python3.8/site-packages/uszipcode/__init__.py)"
     ]
    }
   ],
   "metadata": {}
  },
  {
   "cell_type": "code",
   "execution_count": null,
   "source": [
    "search = ZipcodeSearchEngine()"
   ],
   "outputs": [],
   "metadata": {}
  },
  {
   "cell_type": "markdown",
   "source": [
    "### Using the lat, long coordinates the library gives us the zip that it belongs to\n",
    "Example for a random pair of lat, long gives us the zip for that lat long"
   ],
   "metadata": {}
  },
  {
   "cell_type": "code",
   "execution_count": null,
   "source": [
    "search.by_coordinate(42.362539, -71.165069, radius=2, returns=1)"
   ],
   "outputs": [],
   "metadata": {}
  },
  {
   "cell_type": "markdown",
   "source": [
    "### We take the unique values of latitude, longitudes to get the zip for each of them\n",
    "- df_lat_long is the list of unique values for each of the "
   ],
   "metadata": {}
  },
  {
   "cell_type": "code",
   "execution_count": null,
   "source": [
    "df_lat_long = crime_subset.loc[:,['Lat','Long']].drop_duplicates()"
   ],
   "outputs": [],
   "metadata": {}
  },
  {
   "cell_type": "markdown",
   "source": [
    "## The function below gives us a dictionary of zip and its demographic information through lat, long\n",
    "- We apply this function to each row of the unique lat, long dataset\n",
    "- We then append this new column of dicts of zip information to our unique lat long dataframe"
   ],
   "metadata": {}
  },
  {
   "cell_type": "code",
   "execution_count": null,
   "source": [
    "def get_demographics(lat_long):\n",
    "    return search.by_coordinate(lat_long.Lat, lat_long.Long, radius=3, returns=1)"
   ],
   "outputs": [],
   "metadata": {}
  },
  {
   "cell_type": "markdown",
   "source": [
    "## CODE OPTIMIZATION:\n",
    "- Initially the apply function was being run for the entire main dataset with 300k rows\n",
    "- This was a bottleneck for us and initially it was taking us 15 minutes just to run the code below\n",
    "- To optimize this step, we created a new dataframe of unique lat, longs and ran the apply function only for that\n",
    "- This reduced the run time to 16 seconds"
   ],
   "metadata": {}
  },
  {
   "cell_type": "code",
   "execution_count": null,
   "source": [
    "#res = %timeit -o \n",
    "df_lat_long['zip_dict'] = df_lat_long.loc[:,['Lat','Long']].apply(get_demographics, axis=1)"
   ],
   "outputs": [],
   "metadata": {}
  },
  {
   "cell_type": "code",
   "execution_count": null,
   "source": [
    "df_lat_long.head()"
   ],
   "outputs": [],
   "metadata": {}
  },
  {
   "cell_type": "markdown",
   "source": [
    "## Extract the zip code from the dictionary of information for each row"
   ],
   "metadata": {}
  },
  {
   "cell_type": "code",
   "execution_count": null,
   "source": [
    "df_lat_long = df_lat_long.assign(zip_code = df_lat_long.loc[:,['zip_dict']].apply(lambda x:[y[0].Zipcode for y in x]))"
   ],
   "outputs": [],
   "metadata": {}
  },
  {
   "cell_type": "code",
   "execution_count": null,
   "source": [
    "df_lat_long.head()"
   ],
   "outputs": [],
   "metadata": {}
  },
  {
   "cell_type": "markdown",
   "source": [
    "### df_crime will be the main dataset which has the zips going forward"
   ],
   "metadata": {}
  },
  {
   "cell_type": "code",
   "execution_count": null,
   "source": [
    "df_crime = pd.merge(crime_subset, df_lat_long, how='left', on=['Lat', 'Long'], left_index=False, right_index=False)"
   ],
   "outputs": [],
   "metadata": {}
  },
  {
   "cell_type": "markdown",
   "source": [
    "### Verify whether the number of rows is the same in the merged dataset and the original one"
   ],
   "metadata": {}
  },
  {
   "cell_type": "code",
   "execution_count": null,
   "source": [
    "df_crime.shape[0] == crime_subset.shape[0]"
   ],
   "outputs": [],
   "metadata": {}
  },
  {
   "cell_type": "code",
   "execution_count": null,
   "source": [
    "# df_crime.to_csv('crimes_with_locations.csv', index_label=False)"
   ],
   "outputs": [],
   "metadata": {}
  },
  {
   "cell_type": "markdown",
   "source": [
    "### Inspect that the zip column has been pulled into our original dataframe"
   ],
   "metadata": {}
  },
  {
   "cell_type": "code",
   "execution_count": null,
   "source": [
    "df_crime.head()"
   ],
   "outputs": [],
   "metadata": {}
  },
  {
   "cell_type": "markdown",
   "source": [
    "# Load the zip demographic information"
   ],
   "metadata": {}
  },
  {
   "cell_type": "code",
   "execution_count": null,
   "source": [
    "zip_demographics = pd.read_csv('zip_attributes.csv', dtype={'zip_code':np.object})\n",
    "zip_demographics.head()"
   ],
   "outputs": [],
   "metadata": {}
  },
  {
   "cell_type": "code",
   "execution_count": null,
   "source": [
    "crime_classes = pd.read_csv('crime_classification.csv')\n",
    "crime_classes.head()"
   ],
   "outputs": [],
   "metadata": {}
  },
  {
   "cell_type": "code",
   "execution_count": null,
   "source": [
    "df_crime_temp = df_crime.merge(zip_demographics, how='left', on='zip_code', left_index=False, right_index=False)\n",
    "df_crime = df_crime_temp.merge(crime_classes, how='left', on='OFFENSE_DESCRIPTION', \n",
    "                                             left_index=False, right_index=False)"
   ],
   "outputs": [],
   "metadata": {}
  },
  {
   "cell_type": "code",
   "execution_count": null,
   "source": [
    "df_crime.columns"
   ],
   "outputs": [],
   "metadata": {}
  },
  {
   "cell_type": "code",
   "execution_count": null,
   "source": [
    "df_crime.shape"
   ],
   "outputs": [],
   "metadata": {}
  },
  {
   "cell_type": "code",
   "execution_count": null,
   "source": [
    "grouped_zipcode = df_crime.groupby(['zip_code'])\n",
    "demo_stats = grouped_zipcode.agg({'zip_code':'count','no_of_business':'max', 'median_age':'max', 'income_per_household':'max', \n",
    "                                  'business_first_quater_payroll':'max', 'avg_house_value':'max',\n",
    "                                  'black_population':'max', 'white_population':'max'\n",
    "                                 })\n",
    "demo_stats.rename(columns={'zip_code':'num_of_crime_incidents'}, inplace=True)\n",
    "demo_stats.head()"
   ],
   "outputs": [],
   "metadata": {}
  },
  {
   "cell_type": "markdown",
   "source": [
    "## Exploring the analysis between crime incidence and the demographic information\n",
    "### Double-click the scatter-plots to zoom in"
   ],
   "metadata": {}
  },
  {
   "cell_type": "code",
   "execution_count": null,
   "source": [
    "y_vars=['num_of_crime_incidents']\n",
    "\n",
    "sns.pairplot(demo_stats, x_vars=demo_stats.columns, y_vars=y_vars)"
   ],
   "outputs": [],
   "metadata": {}
  },
  {
   "cell_type": "code",
   "execution_count": null,
   "source": [
    "sns.pairplot(demo_stats, kind=\"reg\", vars=['num_of_crime_incidents', 'no_of_business', 'avg_house_value', 'black_population', 'white_population'])"
   ],
   "outputs": [],
   "metadata": {}
  },
  {
   "cell_type": "markdown",
   "source": [
    "## Exploring the crime variation with time information"
   ],
   "metadata": {}
  },
  {
   "cell_type": "code",
   "execution_count": null,
   "source": [
    "grouped_vars = df_crime.groupby(['DAY_OF_WEEK'])\n",
    "grouped_stats = grouped_vars.agg({'zip_code':'count'})\n",
    "grouped_stats.rename(columns={'zip_code':'num_of_crime_incidents'}, inplace=True)\n",
    "grouped_stats= grouped_stats.reset_index()\n",
    "\n",
    "sns.set(style=\"whitegrid\")\n",
    "day_of_week_order = ['Monday', 'Tuesday', 'Wednesday', 'Thursday', 'Friday', 'Saturday', 'Sunday']\n",
    "sns.barplot(x=\"DAY_OF_WEEK\", y=\"num_of_crime_incidents\", order=day_of_week_order, data=grouped_stats, color='lightblue')"
   ],
   "outputs": [],
   "metadata": {}
  },
  {
   "cell_type": "code",
   "execution_count": null,
   "source": [
    "grouped_vars = df_crime.groupby(['HOUR'])\n",
    "grouped_stats = grouped_vars.agg({'zip_code':'count'})\n",
    "grouped_stats.rename(columns={'zip_code':'num_of_crime_incidents'}, inplace=True)\n",
    "grouped_stats= grouped_stats.reset_index()\n",
    "\n",
    "dims = (8, 6)\n",
    "fig, ax = plt.subplots(figsize=dims)\n",
    "\n",
    "hours_ranking = [6,7,8,9,10,11,12,13,14,15,16,17,18,19,20,21,22,23,0,1,2,3,4,5]\n",
    "sns.barplot(ax=ax, x=\"HOUR\", y=\"num_of_crime_incidents\", color='salmon', order=hours_ranking, data=grouped_stats)"
   ],
   "outputs": [],
   "metadata": {}
  },
  {
   "cell_type": "markdown",
   "source": [
    "## Exploring the crime variation with zips"
   ],
   "metadata": {}
  },
  {
   "cell_type": "code",
   "execution_count": null,
   "source": [
    "grouped_vars = df_crime.groupby(['zip_code'])\n",
    "grouped_stats = grouped_vars.agg({'zip_code':'count'})\n",
    "grouped_stats.rename(columns={'zip_code':'num_of_crime_incidents'}, inplace=True)\n",
    "grouped_stats= grouped_stats.reset_index()\n",
    "\n",
    "dims = (30, 5)\n",
    "fig, ax = plt.subplots(figsize=dims)\n",
    "\n",
    "sns.barplot(ax=ax, x=\"zip_code\", y=\"num_of_crime_incidents\", color='darkkhaki', data=grouped_stats)"
   ],
   "outputs": [],
   "metadata": {}
  },
  {
   "cell_type": "markdown",
   "source": [
    "# Regression Analysis:\n",
    "- We see that crime varies over DAY_OF_WEEK, HOUR, and ZIP_CODE during exploratory analysis\n",
    "- We will run a regression analysis using these 3 factors\n",
    "\n",
    "### Results:\n",
    "- Using these 3 variables as categorical variables in the equation, we see that we can explain __~82% of the variation in crime__\n",
    "- This is __because the zip captures a lot of the demographic__ informatin within itself"
   ],
   "metadata": {}
  },
  {
   "cell_type": "code",
   "execution_count": null,
   "source": [
    "import statsmodels.formula.api as smf"
   ],
   "outputs": [],
   "metadata": {}
  },
  {
   "cell_type": "code",
   "execution_count": null,
   "source": [
    "grouped_vars = df_crime.groupby(['zip_code', 'HOUR', 'DAY_OF_WEEK'])\n",
    "grouped_stats = grouped_vars.agg({'zip_code':'count'})\n",
    "grouped_stats.rename(columns={'zip_code':'num_of_crime_incidents'}, inplace=True)\n",
    "grouped_stats= grouped_stats.reset_index()\n",
    "\n",
    "res_1 = smf.ols(formula='num_of_crime_incidents ~ C(DAY_OF_WEEK) + C(HOUR) + C(zip_code)', data=grouped_stats).fit()\n",
    "print(res_1.summary())"
   ],
   "outputs": [],
   "metadata": {}
  },
  {
   "cell_type": "code",
   "execution_count": null,
   "source": [
    "#this is done to merge the codes\n",
    "crimes = df_crime"
   ],
   "outputs": [],
   "metadata": {}
  },
  {
   "cell_type": "code",
   "execution_count": null,
   "source": [
    "#this is done to merge the codes\n",
    "attributes = zip_demographics\n",
    "attributes.population = attributes.population.replace(0,np.nan)\n",
    "attributes = attributes.dropna(subset=['population'])"
   ],
   "outputs": [],
   "metadata": {}
  },
  {
   "cell_type": "code",
   "execution_count": null,
   "source": [
    "crimes.head(10)"
   ],
   "outputs": [],
   "metadata": {}
  },
  {
   "cell_type": "code",
   "execution_count": null,
   "source": [
    "zipcrime = crimes.groupby(by=['zip_code','HOUR','DAY_OF_WEEK']).agg({'INCIDENT_NUMBER':'count'}) #grouping the data by zip_code,hour and day of week\n",
    "zipcrime = zipcrime.reset_index()\n",
    "data = zipcrime.merge(attributes, how='left', left_on = zipcrime.zip_code, right_on=attributes.zip_code)\n",
    "data = data.dropna(subset=['population']) #removing the rows which have zero population\n",
    "data = data.drop(columns=[ 'zip_code_x', 'zip_code_y'])\n",
    "print(len(data))\n",
    "print(data.columns)"
   ],
   "outputs": [],
   "metadata": {
    "scrolled": true
   }
  },
  {
   "cell_type": "code",
   "execution_count": null,
   "source": [
    "data.head()"
   ],
   "outputs": [],
   "metadata": {}
  },
  {
   "cell_type": "markdown",
   "source": [
    "# Removing the variables based on economic significance and statistical significance. Running the linear regression to understand the correlations and probable causal relationship among attributes and CRIME_INCIDENCE\n",
    "\n",
    "Following parameters were removed based on economic signinficance:\n",
    "1. population: Since race wise population breakup is used, using this paramters will create multi-colineararity\n",
    "2. delievery_total: the number of households which have a mail box. Since number of households are taken this variable is trivial.\n",
    "\n",
    "Following parameters were statiscally insignificant:\n",
    "3. business_first_quater_payroll\n",
    "4. No_of_business\n",
    "5. Median Age\n",
    "6. Persons_per_household"
   ],
   "metadata": {}
  },
  {
   "cell_type": "code",
   "execution_count": null,
   "source": [
    "reg_data = data #creating suitable dataset for running the regression\n",
    "reg_data = reg_data.drop(columns=['no_of_business','median_age','population','delivery_total','delivery_business','delivery_residential',\n",
    "                                  'land_area','avg_house_value','business_first_quater_payroll','persons_per_household'])\n",
    "reg_data.head()"
   ],
   "outputs": [],
   "metadata": {}
  },
  {
   "cell_type": "code",
   "execution_count": null,
   "source": [
    "#running the linear regression\n",
    "result = sm.ols(formula=\"INCIDENT_NUMBER ~ C(HOUR)+DAY_OF_WEEK+male_population+households_per_zip+income_per_household+asian_population+black_population+hawaiian_population+indian_population+other_population+white_population\", data=data).fit()\n",
    "print(result.summary())"
   ],
   "outputs": [],
   "metadata": {}
  },
  {
   "cell_type": "markdown",
   "source": [
    "# Clustering Algorithm\n",
    "\n",
    "The statisically significant variables from the above regression model were taken to analyse the number of cluster present among the zip codes. Elbow graph showed that optimum number of clusters are 3. The clustering also supports the results from regression that the crime incidence is positively correlated with number of households, hawaiian population, indian population and negatively correlated with income per household, white population and black population"
   ],
   "metadata": {}
  },
  {
   "cell_type": "code",
   "execution_count": null,
   "source": [
    "zipcrime = crimes.groupby(by=['zip_code']).agg({'INCIDENT_NUMBER':'count'})\n",
    "zipcrime = zipcrime.reset_index()\n",
    "data = zipcrime.merge(attributes, how='left', left_on = zipcrime.zip_code, right_on=attributes.zip_code)\n",
    "data = data.dropna(subset=['population'])\n",
    "data = data.drop(columns=['zip_code_y','delivery_total',\n",
    "                        'delivery_business','delivery_residential','land_area','avg_house_value',\n",
    "                        'business_first_quater_payroll','persons_per_household','no_of_business','median_age'])\n",
    "c_data = data.drop(columns=['zip_code_x','INCIDENT_NUMBER','population'])\n",
    "data.head()"
   ],
   "outputs": [],
   "metadata": {}
  },
  {
   "cell_type": "code",
   "execution_count": null,
   "source": [
    "sns.pairplot(c_data)"
   ],
   "outputs": [],
   "metadata": {}
  },
  {
   "cell_type": "code",
   "execution_count": null,
   "source": [
    "rel_cols = list(c_data.columns)\n",
    "nClusters=range(2,11)\n",
    "sumDistances=[]\n",
    "for n in nClusters:\n",
    "    kmeans=KMeans(n_clusters=n).fit(c_data[rel_cols])\n",
    "    sumDistances.append(kmeans.inertia_) #Proxy for SSE"
   ],
   "outputs": [],
   "metadata": {}
  },
  {
   "cell_type": "code",
   "execution_count": null,
   "source": [
    "plt.plot(nClusters,sumDistances,'-')\n",
    "plt.title('Variation of sum of errors(SSE) vs no of clusters')\n",
    "plt.xlabel('No. of Clusters')\n",
    "plt.ylabel('Sum Of Distances')\n",
    "plt.show()"
   ],
   "outputs": [],
   "metadata": {}
  },
  {
   "cell_type": "code",
   "execution_count": null,
   "source": [
    "kmeans=KMeans(n_clusters=3).fit(c_data[rel_cols])\n",
    "data['Cluster']=kmeans.labels_\n",
    "g = sns.pairplot(data.iloc[:,1:],hue='Cluster')"
   ],
   "outputs": [],
   "metadata": {}
  },
  {
   "cell_type": "code",
   "execution_count": null,
   "source": [
    "analysis = data.groupby(by=['Cluster']).agg({'zip_code_x':'count','INCIDENT_NUMBER':np.mean,'population':np.mean,\n",
    "                                             'hawaiian_population':np.mean,'indian_population':np.mean,\n",
    "                                             'income_per_household':np.mean,'households_per_zip':np.mean})\n",
    "analysis.rename(columns={'zip_code_x':'num_of_zip_code','INCIDENT_NUMBER':'num_of_crime_incidence'}, inplace=True)\n",
    "analysis"
   ],
   "outputs": [],
   "metadata": {}
  },
  {
   "cell_type": "code",
   "execution_count": null,
   "source": [
    "print(\"List of zip code where the crime incidence is maximum hare the low income and highly populated areas\\n\", list(data.zip_code_x[data.Cluster==1]))"
   ],
   "outputs": [],
   "metadata": {}
  },
  {
   "cell_type": "markdown",
   "source": [
    "# Ploting the latitudes and longitudes on the map of boston using folium"
   ],
   "metadata": {}
  },
  {
   "cell_type": "code",
   "execution_count": null,
   "source": [
    "crime_by_lat_long = df_crime.groupby(['Lat','Long'])['zip_code'].count()\n",
    "crime_by_lat_long = crime_by_lat_long.reset_index()"
   ],
   "outputs": [],
   "metadata": {}
  },
  {
   "cell_type": "markdown",
   "source": [
    "Below cell, plots Boston Heat Map of Crime Incidents, with co-ordinates(latitude,longitude) level granularity.Since the map plots ~18000 unique co-ordinates(latitudes,longitudes), size of the map will approx. be 6 MB and hence will not get displayed in Jupyter notebook. A .html file of one run is attached in zip file.Also once the below cell is executed, heatmap.html file gets saved in the current working directory."
   ],
   "metadata": {}
  },
  {
   "cell_type": "code",
   "execution_count": null,
   "source": [
    "data = np.array(\n",
    "    [\n",
    "        crime_by_lat_long['Lat'],\n",
    "        crime_by_lat_long['Long'],\n",
    "        \n",
    "    ]\n",
    ").T\n",
    "\n",
    "heatmap = folium.Map([42.36, -71.31], zoom_start=4) #latitude-longitude co-ordinates of Boston\n",
    "heatmap.add_child(plugins.HeatMap([[row[\"Lat\"], row[\"Long\"]] for name, row in df_crime.iloc[:17997].iterrows()])) #Unique co-ordinates\n",
    "plugins.MarkerCluster(data).add_to(heatmap)\n",
    "heatmap.save(\"heatmap.html\")\n"
   ],
   "outputs": [],
   "metadata": {}
  },
  {
   "cell_type": "code",
   "execution_count": null,
   "source": [
    "end_time = time.time()\n",
    "print(\"Total run time:\",(end_time - start_time))"
   ],
   "outputs": [],
   "metadata": {}
  },
  {
   "cell_type": "markdown",
   "source": [
    "# Profiling the regression by artificially increasing the dataset size\n",
    "\n",
    "The df_crime data is multiplied by 2,3,4 and so till 9 in every iteration"
   ],
   "metadata": {}
  },
  {
   "cell_type": "code",
   "execution_count": null,
   "source": [
    "initial_dataset = df_crime\n",
    "\n",
    "data_size_multiplier = [1, 2, 3, 4, 5, 6, 7, 8]\n",
    "time_taken = []\n",
    "\n",
    "for num, size in enumerate(data_size_multiplier):\n",
    "    dataset = initial_dataset.append([initial_dataset]*size,ignore_index=True)\n",
    "    initial_dataset = df_crime\n",
    "    print(\"========================================================\")\n",
    "    %memit\n",
    "    print(\"DATASET SIZE: {:,}\".format(dataset.shape[0]))\n",
    "    t_1 = time.time()\n",
    "    grouped_vars = dataset.groupby(['zip_code', 'HOUR', 'DAY_OF_WEEK'])    \n",
    "    grouped_stats = grouped_vars.agg({'zip_code':'count'})\n",
    "    grouped_stats.rename(columns={'zip_code':'num_of_crime_incidents'}, inplace=True)\n",
    "    grouped_stats= grouped_stats.reset_index()\n",
    "    \n",
    "    res_1 = smf.ols(formula='num_of_crime_incidents ~ C(DAY_OF_WEEK) + C(HOUR) + C(zip_code)', data=grouped_stats).fit()\n",
    "    t_2 = time.time()\n",
    "    time_taken.append(t_2-t_1)\n",
    "    print(\"TIME TAKEN: {}\".format(t_2 - t_1), end='\\n\\n')\n",
    "\n",
    "data_size_labels = [x+1 for x in data_size_multiplier]"
   ],
   "outputs": [],
   "metadata": {}
  },
  {
   "cell_type": "markdown",
   "source": [
    "### Time taken to run increases linearly with increase in the original datasize (original size = ~300k)"
   ],
   "metadata": {}
  },
  {
   "cell_type": "code",
   "execution_count": null,
   "source": [
    "fig, ax = plt.subplots()\n",
    "\n",
    "plt.title('Time to run the regression vs Datasize multiplier', fontsize=16)\n",
    "plt.ylabel('Time in seconds', fontsize=15)\n",
    "plt.xlabel('X TIMES Original Datasize', fontsize=15)\n",
    "ax.plot(data_size_labels, time_taken)"
   ],
   "outputs": [],
   "metadata": {}
  },
  {
   "cell_type": "markdown",
   "source": [
    "# Profiling of clustering algorithm and ploting the pairplot with increasing zip codes\n",
    "\n",
    "The dataset is multiplied by 4 in every iteration to analyse the time taken to perform clustering algorithm and plotting the pairplots between given attributes. We see an increase in time with an almost linear relationship when the number of zip codes approaches 41,000 which is equal to the total number of zip codes in US.\n",
    "\n",
    "Hence, if this algorithm is run for the complete US data over given attributes, it will take just 34 seconds run time."
   ],
   "metadata": {}
  },
  {
   "cell_type": "code",
   "execution_count": null,
   "source": [
    "initial_dataset = c_data\n",
    "\n",
    "data_size_multiplier = [3,3,3,3,3]\n",
    "time_taken = []\n",
    "\n",
    "for num, size in enumerate(data_size_multiplier):\n",
    "    print(\"========================================================\")\n",
    "    %memit\n",
    "    dataset = initial_dataset.append([initial_dataset]*size,ignore_index=True)\n",
    "    initial_dataset = dataset\n",
    "    print(\"DATASET SIZE: {:,}\".format(dataset.shape[0]))\n",
    "    t_1 = time.time()\n",
    "    kmeans=KMeans(n_clusters=3).fit(dataset[rel_cols])\n",
    "    dataset['Cluster'] = kmeans.labels_\n",
    "    g = sns.pairplot(dataset,hue='Cluster')\n",
    "    t_2 = time.time()\n",
    "    time_taken.append(t_2-t_1)\n",
    "    print(\"TIME TAKEN: {}\".format(t_2 - t_1), end='\\n\\n')\n",
    "\n",
    "data_size_labels = [4,16,64,256,1024]"
   ],
   "outputs": [],
   "metadata": {}
  },
  {
   "cell_type": "code",
   "execution_count": null,
   "source": [
    "fig, ax = plt.subplots()\n",
    "\n",
    "plt.title('Time to run the clustering algorithm vs Datasize multiplier', fontsize=16)\n",
    "plt.ylabel('Time in seconds', fontsize=15)\n",
    "plt.xlabel('X TIMES Original Datasize', fontsize=15)\n",
    "ax.plot(data_size_labels, time_taken)"
   ],
   "outputs": [],
   "metadata": {}
  },
  {
   "cell_type": "code",
   "execution_count": null,
   "source": [],
   "outputs": [],
   "metadata": {}
  }
 ],
 "metadata": {
  "kernelspec": {
   "name": "python3",
   "display_name": "Python 3.8.8 64-bit ('base': conda)"
  },
  "language_info": {
   "codemirror_mode": {
    "name": "ipython",
    "version": 3
   },
   "file_extension": ".py",
   "mimetype": "text/x-python",
   "name": "python",
   "nbconvert_exporter": "python",
   "pygments_lexer": "ipython3",
   "version": "3.8.8"
  },
  "interpreter": {
   "hash": "ce99e95051885269d329c3adc53108213dd534d72c2e67e24bbc7c58d47bd55a"
  }
 },
 "nbformat": 4,
 "nbformat_minor": 2
}